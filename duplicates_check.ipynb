{
 "cells": [
  {
   "cell_type": "code",
   "execution_count": 21,
   "metadata": {},
   "outputs": [],
   "source": [
    "import pandas as pd\n",
    "\n",
    "competitions = pd.read_csv('tfmkt_scraper/crawled_data/competitions.csv')\n",
    "clubs = pd.read_csv('tfmkt_scraper/crawled_data/clubs_updated.csv')\n",
    "players = pd.read_csv('tfmkt_scraper/crawled_data/players.csv')"
   ]
  },
  {
   "cell_type": "markdown",
   "metadata": {},
   "source": [
    "# Check for Duplicates"
   ]
  },
  {
   "cell_type": "code",
   "execution_count": 6,
   "metadata": {},
   "outputs": [
    {
     "name": "stdout",
     "output_type": "stream",
     "text": [
      "0\n",
      "0\n",
      "0\n"
     ]
    }
   ],
   "source": [
    "# Check if there are any duliactes in competitions\n",
    "print(competitions.duplicated().sum())\n",
    "print(clubs.duplicated().sum())\n",
    "print(players.duplicated().sum())"
   ]
  },
  {
   "cell_type": "markdown",
   "metadata": {},
   "source": [
    "## Check for Duplicates in `players.csv`"
   ]
  },
  {
   "cell_type": "markdown",
   "metadata": {},
   "source": [
    "### A) Players with the same name"
   ]
  },
  {
   "cell_type": "code",
   "execution_count": 19,
   "metadata": {},
   "outputs": [
    {
     "name": "stdout",
     "output_type": "stream",
     "text": [
      "Players with the same name: 165\n",
      "\n",
      "name\n",
      "João Teixeira        4\n",
      "João Pedro           4\n",
      "Juninho              4\n",
      "Jorginho             4\n",
      "Sergey Volkov        4\n",
      "                    ..\n",
      "Emiliano Martínez    2\n",
      "Emerson              2\n",
      "Emanuel              2\n",
      "Ederson              2\n",
      "Zé Pedro             2\n",
      "Length: 144, dtype: int64\n"
     ]
    }
   ],
   "source": [
    "# players with the same name\n",
    "print(f\"Players with the same name: {players.duplicated(subset=['name']).sum()}\\n\")\n",
    "grouped_players = players.groupby('name').size()\n",
    "print(grouped_players[grouped_players > 1].sort_values(ascending=False))"
   ]
  },
  {
   "cell_type": "markdown",
   "metadata": {},
   "source": [
    "### B) Players with the same name and team"
   ]
  },
  {
   "cell_type": "code",
   "execution_count": null,
   "metadata": {},
   "outputs": [
    {
     "name": "stdout",
     "output_type": "stream",
     "text": [
      "Players with the same name and team:2\n",
      "\n",
      "name            team                \n",
      "João Mendes     Vitória Guimarães SC    2\n",
      "Tomislav Tomic  NK Siroki Brijeg        2\n",
      "dtype: int64\n"
     ]
    }
   ],
   "source": [
    "# players with the same name and team\n",
    "print(f\"Players with the same name and team: {players.duplicated(subset=['name', 'team']).sum()}\\n\")\n",
    "grouped_players = players.groupby(['name', 'team']).size()\n",
    "print(grouped_players[grouped_players > 1].sort_values(ascending=False))"
   ]
  },
  {
   "cell_type": "markdown",
   "metadata": {},
   "source": [
    "### C) Players with the same name, team and age"
   ]
  },
  {
   "cell_type": "code",
   "execution_count": 20,
   "metadata": {},
   "outputs": [
    {
     "name": "stdout",
     "output_type": "stream",
     "text": [
      "Players with the same name, team and age: 0\n",
      "\n"
     ]
    }
   ],
   "source": [
    "# Players with the same name, team and age\n",
    "print(f\"Players with the same name, team and age: {players.duplicated(subset=['name', 'team', 'age']).sum()}\\n\")"
   ]
  },
  {
   "cell_type": "markdown",
   "metadata": {},
   "source": [
    "Therefore a combination of player name, team and age is a unique identifier for a player.\n",
    "\n",
    "---"
   ]
  },
  {
   "cell_type": "markdown",
   "metadata": {},
   "source": [
    "## Check for Duplicates in `clubs.csv`"
   ]
  },
  {
   "cell_type": "markdown",
   "metadata": {},
   "source": [
    "### A) Clubs with the same name"
   ]
  },
  {
   "cell_type": "code",
   "execution_count": 27,
   "metadata": {},
   "outputs": [
    {
     "name": "stdout",
     "output_type": "stream",
     "text": [
      "Clubs with the same name: 0\n",
      "\n"
     ]
    }
   ],
   "source": [
    "# clubs with the same name\n",
    "print(f\"Clubs with the same name: {clubs.duplicated(subset=['name']).sum()}\\n\")"
   ]
  },
  {
   "cell_type": "markdown",
   "metadata": {},
   "source": [
    "Therefore the club name is a unique identifier for a club.\n",
    "\n",
    "---"
   ]
  },
  {
   "cell_type": "markdown",
   "metadata": {},
   "source": [
    "## Check for Duplicates in `competitions.csv`"
   ]
  },
  {
   "cell_type": "markdown",
   "metadata": {},
   "source": [
    "### A) Competitions with the same name"
   ]
  },
  {
   "cell_type": "code",
   "execution_count": 25,
   "metadata": {},
   "outputs": [
    {
     "name": "stdout",
     "output_type": "stream",
     "text": [
      "Competitions with the same name: 4\n",
      "\n",
      "competition_name\n",
      "Premier Liga    3\n",
      "Bundesliga      2\n",
      "Premiership     2\n",
      "dtype: int64\n"
     ]
    }
   ],
   "source": [
    "# competitions with the same competition_name\n",
    "print(f\"Competitions with the same name: {competitions.duplicated(subset=['competition_name']).sum()}\\n\")\n",
    "grouped_competitions = competitions.groupby('competition_name').size()\n",
    "print(grouped_competitions[grouped_competitions > 1].sort_values(ascending=False))"
   ]
  },
  {
   "cell_type": "markdown",
   "metadata": {},
   "source": [
    "### B) Competitions with the same name and country"
   ]
  },
  {
   "cell_type": "code",
   "execution_count": 26,
   "metadata": {},
   "outputs": [
    {
     "name": "stdout",
     "output_type": "stream",
     "text": [
      "Competitions with the same name and country: 0\n",
      "\n"
     ]
    }
   ],
   "source": [
    "# competitions with the same competition_name and country\n",
    "print(f\"Competitions with the same name and country: {competitions.duplicated(subset=['competition_name', 'country']).sum()}\\n\")"
   ]
  },
  {
   "cell_type": "markdown",
   "metadata": {},
   "source": [
    "Therefore a combination of competition name and country is a unique identifier for a competition.\n",
    "\n",
    "---"
   ]
  }
 ],
 "metadata": {
  "kernelspec": {
   "display_name": "DSLab",
   "language": "python",
   "name": "python3"
  },
  "language_info": {
   "codemirror_mode": {
    "name": "ipython",
    "version": 3
   },
   "file_extension": ".py",
   "mimetype": "text/x-python",
   "name": "python",
   "nbconvert_exporter": "python",
   "pygments_lexer": "ipython3",
   "version": "3.11.8"
  }
 },
 "nbformat": 4,
 "nbformat_minor": 2
}
